{
 "cells": [
  {
   "cell_type": "code",
   "execution_count": 1,
   "id": "4fc56e61",
   "metadata": {},
   "outputs": [],
   "source": [
    "import numpy as np\n",
    "import pandas as pd\n",
    "import seaborn as sns"
   ]
  },
  {
   "cell_type": "code",
   "execution_count": 2,
   "id": "e6e63995",
   "metadata": {},
   "outputs": [],
   "source": [
    "data = pd.read_csv(\"E:\\Fraud.csv\")"
   ]
  },
  {
   "cell_type": "code",
   "execution_count": 3,
   "id": "ac51bebe",
   "metadata": {},
   "outputs": [
    {
     "data": {
      "text/html": [
       "<div>\n",
       "<style scoped>\n",
       "    .dataframe tbody tr th:only-of-type {\n",
       "        vertical-align: middle;\n",
       "    }\n",
       "\n",
       "    .dataframe tbody tr th {\n",
       "        vertical-align: top;\n",
       "    }\n",
       "\n",
       "    .dataframe thead th {\n",
       "        text-align: right;\n",
       "    }\n",
       "</style>\n",
       "<table border=\"1\" class=\"dataframe\">\n",
       "  <thead>\n",
       "    <tr style=\"text-align: right;\">\n",
       "      <th></th>\n",
       "      <th>step</th>\n",
       "      <th>type</th>\n",
       "      <th>a2ount</th>\n",
       "      <th>na2eOrig</th>\n",
       "      <th>oldbalan1eOrg</th>\n",
       "      <th>newbalan1eOrig</th>\n",
       "      <th>na2eDest</th>\n",
       "      <th>oldbalan1eDest</th>\n",
       "      <th>newbalan1eDest</th>\n",
       "      <th>isFraud</th>\n",
       "      <th>isFlaggedFraud</th>\n",
       "    </tr>\n",
       "  </thead>\n",
       "  <tbody>\n",
       "    <tr>\n",
       "      <th>0</th>\n",
       "      <td>1</td>\n",
       "      <td>1</td>\n",
       "      <td>9839.64</td>\n",
       "      <td>11231006815</td>\n",
       "      <td>170136.0</td>\n",
       "      <td>160296.36</td>\n",
       "      <td>21979787155</td>\n",
       "      <td>0.0</td>\n",
       "      <td>0.0</td>\n",
       "      <td>0</td>\n",
       "      <td>0</td>\n",
       "    </tr>\n",
       "    <tr>\n",
       "      <th>1</th>\n",
       "      <td>1</td>\n",
       "      <td>1</td>\n",
       "      <td>1864.28</td>\n",
       "      <td>11666544295</td>\n",
       "      <td>21249.0</td>\n",
       "      <td>19384.72</td>\n",
       "      <td>22044282225</td>\n",
       "      <td>0.0</td>\n",
       "      <td>0.0</td>\n",
       "      <td>0</td>\n",
       "      <td>0</td>\n",
       "    </tr>\n",
       "    <tr>\n",
       "      <th>2</th>\n",
       "      <td>1</td>\n",
       "      <td>2</td>\n",
       "      <td>181.00</td>\n",
       "      <td>11305486145</td>\n",
       "      <td>181.0</td>\n",
       "      <td>0.00</td>\n",
       "      <td>1553264065</td>\n",
       "      <td>0.0</td>\n",
       "      <td>0.0</td>\n",
       "      <td>1</td>\n",
       "      <td>0</td>\n",
       "    </tr>\n",
       "    <tr>\n",
       "      <th>3</th>\n",
       "      <td>1</td>\n",
       "      <td>5</td>\n",
       "      <td>181.00</td>\n",
       "      <td>1840083671</td>\n",
       "      <td>181.0</td>\n",
       "      <td>0.00</td>\n",
       "      <td>138997010</td>\n",
       "      <td>21182.0</td>\n",
       "      <td>0.0</td>\n",
       "      <td>1</td>\n",
       "      <td>0</td>\n",
       "    </tr>\n",
       "    <tr>\n",
       "      <th>4</th>\n",
       "      <td>1</td>\n",
       "      <td>1</td>\n",
       "      <td>11668.14</td>\n",
       "      <td>12048537720</td>\n",
       "      <td>41554.0</td>\n",
       "      <td>29885.86</td>\n",
       "      <td>21230701703</td>\n",
       "      <td>0.0</td>\n",
       "      <td>0.0</td>\n",
       "      <td>0</td>\n",
       "      <td>0</td>\n",
       "    </tr>\n",
       "  </tbody>\n",
       "</table>\n",
       "</div>"
      ],
      "text/plain": [
       "   step  type    a2ount     na2eOrig  oldbalan1eOrg  newbalan1eOrig  \\\n",
       "0     1     1   9839.64  11231006815       170136.0       160296.36   \n",
       "1     1     1   1864.28  11666544295        21249.0        19384.72   \n",
       "2     1     2    181.00  11305486145          181.0            0.00   \n",
       "3     1     5    181.00   1840083671          181.0            0.00   \n",
       "4     1     1  11668.14  12048537720        41554.0        29885.86   \n",
       "\n",
       "      na2eDest  oldbalan1eDest  newbalan1eDest  isFraud  isFlaggedFraud  \n",
       "0  21979787155             0.0             0.0        0               0  \n",
       "1  22044282225             0.0             0.0        0               0  \n",
       "2   1553264065             0.0             0.0        1               0  \n",
       "3    138997010         21182.0             0.0        1               0  \n",
       "4  21230701703             0.0             0.0        0               0  "
      ]
     },
     "execution_count": 3,
     "metadata": {},
     "output_type": "execute_result"
    }
   ],
   "source": [
    "data.head()"
   ]
  },
  {
   "cell_type": "code",
   "execution_count": 4,
   "id": "c6e17814",
   "metadata": {},
   "outputs": [],
   "source": [
    "fraud = data.loc[data['isFraud'] == 1]\n",
    "safe = data.loc[data['isFraud'] == 0]"
   ]
  },
  {
   "cell_type": "code",
   "execution_count": 5,
   "id": "04f0df35",
   "metadata": {},
   "outputs": [
    {
     "data": {
      "text/html": [
       "<div>\n",
       "<style scoped>\n",
       "    .dataframe tbody tr th:only-of-type {\n",
       "        vertical-align: middle;\n",
       "    }\n",
       "\n",
       "    .dataframe tbody tr th {\n",
       "        vertical-align: top;\n",
       "    }\n",
       "\n",
       "    .dataframe thead th {\n",
       "        text-align: right;\n",
       "    }\n",
       "</style>\n",
       "<table border=\"1\" class=\"dataframe\">\n",
       "  <thead>\n",
       "    <tr style=\"text-align: right;\">\n",
       "      <th></th>\n",
       "      <th>step</th>\n",
       "      <th>type</th>\n",
       "      <th>a2ount</th>\n",
       "      <th>na2eOrig</th>\n",
       "      <th>oldbalan1eOrg</th>\n",
       "      <th>newbalan1eOrig</th>\n",
       "      <th>na2eDest</th>\n",
       "      <th>oldbalan1eDest</th>\n",
       "      <th>newbalan1eDest</th>\n",
       "      <th>isFraud</th>\n",
       "      <th>isFlaggedFraud</th>\n",
       "    </tr>\n",
       "  </thead>\n",
       "  <tbody>\n",
       "    <tr>\n",
       "      <th>2</th>\n",
       "      <td>1</td>\n",
       "      <td>2</td>\n",
       "      <td>181.00</td>\n",
       "      <td>11305486145</td>\n",
       "      <td>181.00</td>\n",
       "      <td>0.0</td>\n",
       "      <td>1553264065</td>\n",
       "      <td>0.00</td>\n",
       "      <td>0.00</td>\n",
       "      <td>1</td>\n",
       "      <td>0</td>\n",
       "    </tr>\n",
       "    <tr>\n",
       "      <th>3</th>\n",
       "      <td>1</td>\n",
       "      <td>5</td>\n",
       "      <td>181.00</td>\n",
       "      <td>1840083671</td>\n",
       "      <td>181.00</td>\n",
       "      <td>0.0</td>\n",
       "      <td>138997010</td>\n",
       "      <td>21182.00</td>\n",
       "      <td>0.00</td>\n",
       "      <td>1</td>\n",
       "      <td>0</td>\n",
       "    </tr>\n",
       "    <tr>\n",
       "      <th>251</th>\n",
       "      <td>1</td>\n",
       "      <td>2</td>\n",
       "      <td>2806.00</td>\n",
       "      <td>11420196421</td>\n",
       "      <td>2806.00</td>\n",
       "      <td>0.0</td>\n",
       "      <td>1972765878</td>\n",
       "      <td>0.00</td>\n",
       "      <td>0.00</td>\n",
       "      <td>1</td>\n",
       "      <td>0</td>\n",
       "    </tr>\n",
       "    <tr>\n",
       "      <th>252</th>\n",
       "      <td>1</td>\n",
       "      <td>5</td>\n",
       "      <td>2806.00</td>\n",
       "      <td>12101527076</td>\n",
       "      <td>2806.00</td>\n",
       "      <td>0.0</td>\n",
       "      <td>11007251739</td>\n",
       "      <td>26202.00</td>\n",
       "      <td>0.00</td>\n",
       "      <td>1</td>\n",
       "      <td>0</td>\n",
       "    </tr>\n",
       "    <tr>\n",
       "      <th>680</th>\n",
       "      <td>1</td>\n",
       "      <td>2</td>\n",
       "      <td>20128.00</td>\n",
       "      <td>1137533655</td>\n",
       "      <td>20128.00</td>\n",
       "      <td>0.0</td>\n",
       "      <td>11848415041</td>\n",
       "      <td>0.00</td>\n",
       "      <td>0.00</td>\n",
       "      <td>1</td>\n",
       "      <td>0</td>\n",
       "    </tr>\n",
       "    <tr>\n",
       "      <th>...</th>\n",
       "      <td>...</td>\n",
       "      <td>...</td>\n",
       "      <td>...</td>\n",
       "      <td>...</td>\n",
       "      <td>...</td>\n",
       "      <td>...</td>\n",
       "      <td>...</td>\n",
       "      <td>...</td>\n",
       "      <td>...</td>\n",
       "      <td>...</td>\n",
       "      <td>...</td>\n",
       "    </tr>\n",
       "    <tr>\n",
       "      <th>1047888</th>\n",
       "      <td>95</td>\n",
       "      <td>5</td>\n",
       "      <td>56745.14</td>\n",
       "      <td>1526144262</td>\n",
       "      <td>56745.14</td>\n",
       "      <td>0.0</td>\n",
       "      <td>179051264</td>\n",
       "      <td>51433.88</td>\n",
       "      <td>108179.02</td>\n",
       "      <td>1</td>\n",
       "      <td>0</td>\n",
       "    </tr>\n",
       "    <tr>\n",
       "      <th>1048221</th>\n",
       "      <td>95</td>\n",
       "      <td>2</td>\n",
       "      <td>33676.59</td>\n",
       "      <td>1732111322</td>\n",
       "      <td>33676.59</td>\n",
       "      <td>0.0</td>\n",
       "      <td>11140210295</td>\n",
       "      <td>0.00</td>\n",
       "      <td>0.00</td>\n",
       "      <td>1</td>\n",
       "      <td>0</td>\n",
       "    </tr>\n",
       "    <tr>\n",
       "      <th>1048222</th>\n",
       "      <td>95</td>\n",
       "      <td>5</td>\n",
       "      <td>33676.59</td>\n",
       "      <td>11000086512</td>\n",
       "      <td>33676.59</td>\n",
       "      <td>0.0</td>\n",
       "      <td>11759363094</td>\n",
       "      <td>0.00</td>\n",
       "      <td>33676.59</td>\n",
       "      <td>1</td>\n",
       "      <td>0</td>\n",
       "    </tr>\n",
       "    <tr>\n",
       "      <th>1048323</th>\n",
       "      <td>95</td>\n",
       "      <td>2</td>\n",
       "      <td>87999.25</td>\n",
       "      <td>1927181710</td>\n",
       "      <td>87999.25</td>\n",
       "      <td>0.0</td>\n",
       "      <td>1757947873</td>\n",
       "      <td>0.00</td>\n",
       "      <td>0.00</td>\n",
       "      <td>1</td>\n",
       "      <td>0</td>\n",
       "    </tr>\n",
       "    <tr>\n",
       "      <th>1048324</th>\n",
       "      <td>95</td>\n",
       "      <td>5</td>\n",
       "      <td>87999.25</td>\n",
       "      <td>1409531429</td>\n",
       "      <td>87999.25</td>\n",
       "      <td>0.0</td>\n",
       "      <td>11827219533</td>\n",
       "      <td>0.00</td>\n",
       "      <td>87999.25</td>\n",
       "      <td>1</td>\n",
       "      <td>0</td>\n",
       "    </tr>\n",
       "  </tbody>\n",
       "</table>\n",
       "<p>1142 rows × 11 columns</p>\n",
       "</div>"
      ],
      "text/plain": [
       "         step  type    a2ount     na2eOrig  oldbalan1eOrg  newbalan1eOrig  \\\n",
       "2           1     2    181.00  11305486145         181.00             0.0   \n",
       "3           1     5    181.00   1840083671         181.00             0.0   \n",
       "251         1     2   2806.00  11420196421        2806.00             0.0   \n",
       "252         1     5   2806.00  12101527076        2806.00             0.0   \n",
       "680         1     2  20128.00   1137533655       20128.00             0.0   \n",
       "...       ...   ...       ...          ...            ...             ...   \n",
       "1047888    95     5  56745.14   1526144262       56745.14             0.0   \n",
       "1048221    95     2  33676.59   1732111322       33676.59             0.0   \n",
       "1048222    95     5  33676.59  11000086512       33676.59             0.0   \n",
       "1048323    95     2  87999.25   1927181710       87999.25             0.0   \n",
       "1048324    95     5  87999.25   1409531429       87999.25             0.0   \n",
       "\n",
       "            na2eDest  oldbalan1eDest  newbalan1eDest  isFraud  isFlaggedFraud  \n",
       "2         1553264065            0.00            0.00        1               0  \n",
       "3          138997010        21182.00            0.00        1               0  \n",
       "251       1972765878            0.00            0.00        1               0  \n",
       "252      11007251739        26202.00            0.00        1               0  \n",
       "680      11848415041            0.00            0.00        1               0  \n",
       "...              ...             ...             ...      ...             ...  \n",
       "1047888    179051264        51433.88       108179.02        1               0  \n",
       "1048221  11140210295            0.00            0.00        1               0  \n",
       "1048222  11759363094            0.00        33676.59        1               0  \n",
       "1048323   1757947873            0.00            0.00        1               0  \n",
       "1048324  11827219533            0.00        87999.25        1               0  \n",
       "\n",
       "[1142 rows x 11 columns]"
      ]
     },
     "execution_count": 5,
     "metadata": {},
     "output_type": "execute_result"
    }
   ],
   "source": [
    "fraud"
   ]
  },
  {
   "cell_type": "code",
   "execution_count": 6,
   "id": "be586109",
   "metadata": {},
   "outputs": [
    {
     "data": {
      "text/plain": [
       "step              1142\n",
       "type              1142\n",
       "a2ount            1142\n",
       "na2eOrig          1142\n",
       "oldbalan1eOrg     1142\n",
       "newbalan1eOrig    1142\n",
       "na2eDest          1142\n",
       "oldbalan1eDest    1142\n",
       "newbalan1eDest    1142\n",
       "isFraud           1142\n",
       "isFlaggedFraud    1142\n",
       "dtype: int64"
      ]
     },
     "execution_count": 6,
     "metadata": {},
     "output_type": "execute_result"
    }
   ],
   "source": [
    "fraud.count()"
   ]
  },
  {
   "cell_type": "code",
   "execution_count": 7,
   "id": "f80476de",
   "metadata": {},
   "outputs": [
    {
     "data": {
      "text/plain": [
       "step              5.512700e+04\n",
       "type              4.018000e+03\n",
       "a2ount            1.361982e+09\n",
       "na2eOrig          7.593470e+12\n",
       "oldbalan1eOrg     1.391683e+09\n",
       "newbalan1eOrig    3.876441e+07\n",
       "na2eDest          7.457329e+12\n",
       "oldbalan1eDest    5.171731e+08\n",
       "newbalan1eDest    1.231008e+09\n",
       "isFraud           1.142000e+03\n",
       "isFlaggedFraud    0.000000e+00\n",
       "dtype: float64"
      ]
     },
     "execution_count": 7,
     "metadata": {},
     "output_type": "execute_result"
    }
   ],
   "source": [
    "fraud.sum()"
   ]
  },
  {
   "cell_type": "code",
   "execution_count": 8,
   "id": "381d3ec2",
   "metadata": {},
   "outputs": [
    {
     "data": {
      "text/plain": [
       "1142"
      ]
     },
     "execution_count": 8,
     "metadata": {},
     "output_type": "execute_result"
    }
   ],
   "source": [
    "len(fraud)"
   ]
  },
  {
   "cell_type": "code",
   "execution_count": 9,
   "id": "57bf8145",
   "metadata": {},
   "outputs": [
    {
     "data": {
      "text/plain": [
       "1047433"
      ]
     },
     "execution_count": 9,
     "metadata": {},
     "output_type": "execute_result"
    }
   ],
   "source": [
    "len(safe)"
   ]
  },
  {
   "cell_type": "code",
   "execution_count": 10,
   "id": "7ace30e4",
   "metadata": {},
   "outputs": [],
   "source": [
    "#FOR TYPE\n",
    "#PAYMENT -1\n",
    "#TRANSFER -2\n",
    "#DEBIT -3\n",
    "#CASH_IN -4\n",
    "#CASH_0UT-5\n",
    "\n",
    "#FOR nameOrig and name Dest\n",
    "#C = 1\n",
    "#M = 2"
   ]
  },
  {
   "cell_type": "code",
   "execution_count": 11,
   "id": "d25bcb0e",
   "metadata": {},
   "outputs": [],
   "source": [
    "from sklearn import linear_model\n",
    "from sklearn.model_selection import train_test_split"
   ]
  },
  {
   "cell_type": "code",
   "execution_count": 12,
   "id": "c9dff372",
   "metadata": {},
   "outputs": [],
   "source": [
    "X = data.iloc[:,:-1]\n",
    "Y= data['isFraud']"
   ]
  },
  {
   "cell_type": "code",
   "execution_count": 13,
   "id": "765e080d",
   "metadata": {},
   "outputs": [],
   "source": [
    "X_train,X_test,Y_train,Y_test = train_test_split(X,Y,test_size= 0.35)"
   ]
  },
  {
   "cell_type": "code",
   "execution_count": 14,
   "id": "dc2ae4c2",
   "metadata": {},
   "outputs": [],
   "source": [
    "clf = linear_model.LogisticRegression(C=1e5)"
   ]
  },
  {
   "cell_type": "code",
   "execution_count": 15,
   "id": "79470a1a",
   "metadata": {},
   "outputs": [
    {
     "name": "stderr",
     "output_type": "stream",
     "text": [
      "C:\\Users\\lenovo\\anaconda3\\lib\\site-packages\\sklearn\\linear_model\\_logistic.py:763: ConvergenceWarning: lbfgs failed to converge (status=1):\n",
      "STOP: TOTAL NO. of ITERATIONS REACHED LIMIT.\n",
      "\n",
      "Increase the number of iterations (max_iter) or scale the data as shown in:\n",
      "    https://scikit-learn.org/stable/modules/preprocessing.html\n",
      "Please also refer to the documentation for alternative solver options:\n",
      "    https://scikit-learn.org/stable/modules/linear_model.html#logistic-regression\n",
      "  n_iter_i = _check_optimize_result(\n"
     ]
    },
    {
     "data": {
      "text/plain": [
       "LogisticRegression(C=100000.0)"
      ]
     },
     "execution_count": 15,
     "metadata": {},
     "output_type": "execute_result"
    }
   ],
   "source": [
    "clf.fit(X_train,Y_train)"
   ]
  },
  {
   "cell_type": "code",
   "execution_count": 16,
   "id": "82a02536",
   "metadata": {},
   "outputs": [],
   "source": [
    "Y_pred = np.array(clf.predict(X_test))\n",
    "Y = np.array(Y_test)"
   ]
  },
  {
   "cell_type": "code",
   "execution_count": 17,
   "id": "8de9ab3d",
   "metadata": {},
   "outputs": [],
   "source": [
    "from sklearn.metrics import confusion_matrix, classification_report, accuracy_score"
   ]
  },
  {
   "cell_type": "code",
   "execution_count": 18,
   "id": "c571d6c1",
   "metadata": {},
   "outputs": [
    {
     "name": "stdout",
     "output_type": "stream",
     "text": [
      "[[366432    146]\n",
      " [   276    148]]\n"
     ]
    }
   ],
   "source": [
    "print(confusion_matrix(Y,Y_pred))"
   ]
  },
  {
   "cell_type": "code",
   "execution_count": 19,
   "id": "c72f9fd1",
   "metadata": {},
   "outputs": [
    {
     "name": "stdout",
     "output_type": "stream",
     "text": [
      "0.9988501425060354\n"
     ]
    }
   ],
   "source": [
    "print(accuracy_score(Y,Y_pred))"
   ]
  },
  {
   "cell_type": "code",
   "execution_count": 20,
   "id": "d1e1047e",
   "metadata": {},
   "outputs": [
    {
     "name": "stdout",
     "output_type": "stream",
     "text": [
      "              precision    recall  f1-score   support\n",
      "\n",
      "           0       1.00      1.00      1.00    366578\n",
      "           1       0.50      0.35      0.41       424\n",
      "\n",
      "    accuracy                           1.00    367002\n",
      "   macro avg       0.75      0.67      0.71    367002\n",
      "weighted avg       1.00      1.00      1.00    367002\n",
      "\n"
     ]
    }
   ],
   "source": [
    "print(classification_report(Y,Y_pred))"
   ]
  }
 ],
 "metadata": {
  "kernelspec": {
   "display_name": "Python 3",
   "language": "python",
   "name": "python3"
  },
  "language_info": {
   "codemirror_mode": {
    "name": "ipython",
    "version": 3
   },
   "file_extension": ".py",
   "mimetype": "text/x-python",
   "name": "python",
   "nbconvert_exporter": "python",
   "pygments_lexer": "ipython3",
   "version": "3.8.8"
  }
 },
 "nbformat": 4,
 "nbformat_minor": 5
}
